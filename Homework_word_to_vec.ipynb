{
 "cells": [
  {
   "cell_type": "markdown",
   "metadata": {},
   "source": [
    "# Практика: word2vec для кристаллов\n",
    "\n",
    "Как вы уже могли заметить, идея, лежащая в основе [word2vec](https://arxiv.org/pdf/1310.4546), достаточно общая. В данном задании вы реализуете его самостоятельно.\n",
    "\n",
    "P.s. GPU в этом задании нам не потребуется :)"
   ]
  },
  {
   "cell_type": "markdown",
   "metadata": {},
   "source": [
    "Многие функции из этого ноутбука лежат в файле `skipgram_model_functions.py`. Это сделано специально, чтобы подсветить важные моменты и не отвлекаться на большое количество кода. Мы рекомендуем ничего не менять в функциях, исключением могут быть функции для визуализации данных."
   ]
  },
  {
   "cell_type": "code",
   "execution_count": 1,
   "metadata": {},
   "outputs": [
    {
     "name": "stderr",
     "output_type": "stream",
     "text": [
      "2024-12-10 18:14:04.802155: I tensorflow/core/util/port.cc:111] oneDNN custom operations are on. You may see slightly different numerical results due to floating-point round-off errors from different computation orders. To turn them off, set the environment variable `TF_ENABLE_ONEDNN_OPTS=0`.\n",
      "2024-12-10 18:14:05.251109: E tensorflow/compiler/xla/stream_executor/cuda/cuda_dnn.cc:9342] Unable to register cuDNN factory: Attempting to register factory for plugin cuDNN when one has already been registered\n",
      "2024-12-10 18:14:05.251160: E tensorflow/compiler/xla/stream_executor/cuda/cuda_fft.cc:609] Unable to register cuFFT factory: Attempting to register factory for plugin cuFFT when one has already been registered\n",
      "2024-12-10 18:14:05.253356: E tensorflow/compiler/xla/stream_executor/cuda/cuda_blas.cc:1518] Unable to register cuBLAS factory: Attempting to register factory for plugin cuBLAS when one has already been registered\n",
      "2024-12-10 18:14:05.425561: I tensorflow/core/platform/cpu_feature_guard.cc:182] This TensorFlow binary is optimized to use available CPU instructions in performance-critical operations.\n",
      "To enable the following instructions: AVX2 AVX512F AVX512_VNNI FMA, in other operations, rebuild TensorFlow with the appropriate compiler flags.\n",
      "2024-12-10 18:14:07.411795: W tensorflow/compiler/tf2tensorrt/utils/py_utils.cc:38] TF-TRT Warning: Could not find TensorRT\n"
     ]
    }
   ],
   "source": [
    "import numpy as np\n",
    "import pandas as pd\n",
    "import torch\n",
    "import torch.nn as nn\n",
    "import umap\n",
    "from nltk.tokenize import WhitespaceTokenizer\n",
    "from nltk.tokenize import PunktSentenceTokenizer\n",
    "from nltk.tokenize import RegexpTokenizer\n",
    "from torch.optim.lr_scheduler import ReduceLROnPlateau, StepLR\n",
    "\n",
    "from skipgram_model_functions import *"
   ]
  },
  {
   "cell_type": "markdown",
   "metadata": {},
   "source": [
    "## Что мы хотим сделать?"
   ]
  },
  {
   "cell_type": "markdown",
   "metadata": {},
   "source": [
    "Это задание нужно для того, чтобы своими руками написать модель, которая является отправной точкой для современных LLM. Прежде чем углубляться в более сложные архитектуры и изучать то, как LLM на лету генерирует текст (а иногда и не текст, а что-то другой модальности), что можно считать работой с последовательностями динамической длины, мы хотим разобраться с построением контекстуального эмбеддинга для токена - атомарной единицы языка. Мы будем решать задачу предсказания вероятности одного токена оказаться (или не оказаться) в одном контексте с другим. Из этого знания мы можем получить представление о том, какие токены схожи и различны. Опираясь на эту информацию можно не только приступать к генерации последовательностей, но и решать другие задачи. Например, в кристаллохимии можно предсказывать физикохимические свойства соединений, зная их векторное представление, или эмбеддинг."
   ]
  },
  {
   "cell_type": "markdown",
   "metadata": {},
   "source": [
    "## Небольшой рассказ о данных"
   ]
  },
  {
   "cell_type": "markdown",
   "metadata": {},
   "source": [
    "Мы будем работать с базой данных `Materials Project`. Для задачи были отобраны стабильные экспериментальные кристаллические структуры, для которых было сгенерировано текстовое описние при помощи `Robocrystallographer`. Все текстовые описания были токенизированы (в нашем случае токен = 1 слово). В `корпус` попали те структуры, описание которых не превышало 70 токенов. \n",
    "<p>Папка содержит 2 файла с данными:\n",
    "\n",
    "`robocrys_exp_stable_70_tokens.txt` - основной файл, с которым мы будем работать. Содержит строки с текстовым описанием кристаллических структур.\n",
    "<p>\n",
    "\n",
    "`robocrys_exp_stable_70_tokens.csv` - файл, содержащий дополнительную информацию о кристаллических структурах, которая пригодится при визуализации эмбеддингов, которые мы посчитаем"
   ]
  },
  {
   "cell_type": "code",
   "execution_count": 2,
   "metadata": {},
   "outputs": [],
   "source": [
    "data = list(open(\"robocrys_exp_stable_70_tokens.txt\", encoding=\"utf-8\"))"
   ]
  },
  {
   "cell_type": "markdown",
   "metadata": {},
   "source": [
    "## Предобработка данных. Токенизация"
   ]
  },
  {
   "cell_type": "markdown",
   "metadata": {},
   "source": [
    "Токенизация – первый шаг.\n",
    "Тексты, с которыми мы работаем, включают в себя пунктуацию и прочие нестандартные токены, так что простой `str.split` иногда может не подходить под конкретную задачу. В данном случае в качестве токена мы будем использовать каждое слово, число и символ пространнственной группы. Можно было бы для каждой строки `i` в `data` выполнить `data[i].strip().split()`, но мы используем `WhitespaceTokenizer`, выполняющий аналогичную функцию.\n",
    "\n",
    "Обратимся к `nltk` - библиотеке, которая нашла широкое применение в области NLP."
   ]
  },
  {
   "cell_type": "code",
   "execution_count": 3,
   "metadata": {},
   "outputs": [],
   "source": [
    "tokenizer = WhitespaceTokenizer()\n",
    "tokenizer2 = RegexpTokenizer(r'\\w+|\\S+')"
   ]
  },
  {
   "cell_type": "markdown",
   "metadata": {},
   "source": [
    "Посмотрим, как выглядит типичное описание одного кристалла:"
   ]
  },
  {
   "cell_type": "code",
   "execution_count": 4,
   "metadata": {},
   "outputs": [
    {
     "name": "stdout",
     "output_type": "stream",
     "text": [
      "Hf is Magnesium structured and crystallizes in the hexagonal P63/mmc space group. Hf is bonded to twelve equivalent Hf atoms to form a mixture of edge, face, and corner-sharing HfHf12 cuboctahedra. There are six shorter (3.12 Å) and six longer (3.19 Å) Hf-Hf bond lengths.\n",
      "\n"
     ]
    }
   ],
   "source": [
    "test_description = data[0]\n",
    "\n",
    "print(test_description)"
   ]
  },
  {
   "cell_type": "markdown",
   "metadata": {},
   "source": [
    "Можно заметить, что описание содержит переносы строки, запятые и точки, которые необходимо удалить перед применением `WhitespaceTokenizer`. Все точки удалять нельзя, потому что некоторые из них являются частью чисел с плавающей точкой (например, 3.26 Å). Также нельзя удалять и использовать в качестве разделителей для токенизации некоторые специальные символы: /, -."
   ]
  },
  {
   "cell_type": "markdown",
   "metadata": {},
   "source": [
    "Сначала заменим все запятые в описаниях кристаллов на пробелы:"
   ]
  },
  {
   "cell_type": "code",
   "execution_count": 42,
   "metadata": {},
   "outputs": [
    {
     "name": "stdout",
     "output_type": "stream",
     "text": [
      "Hf is Magnesium structured and crystallizes in the hexagonal P63/mmc space group. Hf is bonded to twelve equivalent Hf atoms to form a mixture of edge face and corner  -  sharing HfHf12 cuboctahedra. There are six shorter  3.12 Å  and six longer  3.19 Å  Hf  -  Hf bond lengths.\n",
      "\n"
     ]
    }
   ],
   "source": [
    "test_description = test_description.replace(\",\", \"\").replace('(', '').replace(')', '').replace('-', ' - ')\n",
    "\n",
    "print(test_description)"
   ]
  },
  {
   "cell_type": "markdown",
   "metadata": {},
   "source": [
    "Теперь необходимо избавиться от символов переноса строки и точек в конце каждого предложения. Для этого используем `PunktSentenceTokenizer`. Он разобьёт описания на предложения, а затем мы удалим точку в конце каждого из них."
   ]
  },
  {
   "cell_type": "code",
   "execution_count": 6,
   "metadata": {},
   "outputs": [
    {
     "name": "stdout",
     "output_type": "stream",
     "text": [
      "['Hf', 'is', 'Magnesium', 'structured', 'and', 'crystallizes', 'in', 'the', 'hexagonal', 'P63', '/mmc', 'space', 'group', '.', 'Hf', 'is', 'bonded', 'to', 'twelve', 'equivalent', 'Hf', 'atoms', 'to', 'form', 'a', 'mixture', 'of', 'edge', 'face', 'and', 'corner', '-', 'sharing', 'HfHf12', 'cuboctahedra', '.', 'There', 'are', 'six', 'shorter', '(', '3', '.12', 'Å', ')', 'and', 'six', 'longer', '(', '3', '.19', 'Å', ')', 'Hf', '-', 'Hf', 'bond', 'lengths', '.']\n"
     ]
    }
   ],
   "source": [
    "print(tokenizer2.tokenize(test_description))"
   ]
  },
  {
   "cell_type": "code",
   "execution_count": 7,
   "metadata": {},
   "outputs": [],
   "source": [
    "sentence_tokenizer = PunktSentenceTokenizer()\n",
    " "
   ]
  },
  {
   "cell_type": "code",
   "execution_count": 43,
   "metadata": {},
   "outputs": [
    {
     "name": "stdout",
     "output_type": "stream",
     "text": [
      "Test sentences in description look like:\n",
      "['Hf is Magnesium structured and crystallizes in the hexagonal P63/mmc space group.', 'Hf is bonded to twelve equivalent Hf atoms to form a mixture of edge face and corner  -  sharing HfHf12 cuboctahedra.', 'There are six shorter  3.12 Å  and six longer  3.19 Å  Hf  -  Hf bond lengths.']\n",
      "Test tokens of description look like:\n",
      "['Hf', 'is', 'Magnesium', 'structured', 'and', 'crystallizes', 'in', 'the', 'hexagonal', 'P63/mmc', 'space', 'group', 'Hf', 'is', 'bonded', 'to', 'twelve', 'equivalent', 'Hf', 'atoms', 'to', 'form', 'a', 'mixture', 'of', 'edge', 'face', 'and', 'corner', '-', 'sharing', 'HfHf12', 'cuboctahedra', 'There', 'are', 'six', 'shorter', '3.12', 'Å', 'and', 'six', 'longer', '3.19', 'Å', 'Hf', '-', 'Hf', 'bond', 'lengths']\n"
     ]
    }
   ],
   "source": [
    "test_sentences = sentence_tokenizer.tokenize(test_description)\n",
    "\n",
    "print(f'Test sentences in description look like:\\n{test_sentences}')\n",
    "\n",
    "\n",
    "# Вот теперь используем WhiteSpaceTokenizer\n",
    "sentences_modified = [s.rstrip('.') for s in test_sentences]\n",
    "test_tokens = sum([tokenizer.tokenize(sentence) for sentence in sentences_modified], [])\n",
    "\n",
    "print(f'Test tokens of description look like:\\n{test_tokens}')"
   ]
  },
  {
   "cell_type": "markdown",
   "metadata": {},
   "source": [
    "Теперь токенизируем все описания кристаллов в нашем корпусе:"
   ]
  },
  {
   "cell_type": "code",
   "execution_count": 23,
   "metadata": {},
   "outputs": [
    {
     "name": "stdout",
     "output_type": "stream",
     "text": [
      "Количество описаний кристаллов в корпусе:\n",
      "1798\n",
      "\n",
      "Суммарное количество токенов в корпусе:\n",
      "120120\n"
     ]
    }
   ],
   "source": [
    "data_tokenized = []\n",
    "\n",
    "for description in data:\n",
    "    description = description.replace(\",\", \"\").replace(' (', '').replace(') ', '').replace('-', ' - ')\n",
    "    sentences = sentence_tokenizer.tokenize(description)\n",
    "    sentences_modified = [s.rstrip('.') for s in sentences]\n",
    "    tokens = sum([tokenizer.tokenize(s) for s in sentences_modified], [])\n",
    "    data_tokenized.append(tokens)\n",
    "\n",
    "\n",
    "print(f\"Количество описаний кристаллов в корпусе:\\n{len(data_tokenized)}\\n\")\n",
    "\n",
    "n_tokens = sum(len(description) for description in data_tokenized)\n",
    "print(f\"Суммарное количество токенов в корпусе:\\n{n_tokens}\")"
   ]
  },
  {
   "cell_type": "markdown",
   "metadata": {},
   "source": [
    "## Частота встречаемости слов и уникальные слова"
   ]
  },
  {
   "cell_type": "markdown",
   "metadata": {},
   "source": [
    "Для расчета вероятностей нахождения одного слова в контексте другого нам необходимо получить частоту встречаемости каждого токена и список уникальных токенов. Сначала подсчитаем частоту встречаемости слов в корпусе:"
   ]
  },
  {
   "cell_type": "code",
   "execution_count": 24,
   "metadata": {},
   "outputs": [],
   "source": [
    "word_count_dict = get_word_count_dict(data_tokenized)"
   ]
  },
  {
   "cell_type": "markdown",
   "metadata": {},
   "source": [
    "Получим множество уникальных токенов. Это множество будет нашим `словарём`"
   ]
  },
  {
   "cell_type": "code",
   "execution_count": 25,
   "metadata": {},
   "outputs": [
    {
     "name": "stdout",
     "output_type": "stream",
     "text": [
      "Количество уникальных токенов в корпусе:\n",
      "4122\n"
     ]
    }
   ],
   "source": [
    "vocabulary = set(word_count_dict.keys())\n",
    "\n",
    "\n",
    "print(f'Количество уникальных токенов в корпусе:\\n{len(vocabulary)}')"
   ]
  },
  {
   "cell_type": "markdown",
   "metadata": {},
   "source": [
    "Индексируем наш словарь:"
   ]
  },
  {
   "cell_type": "code",
   "execution_count": 26,
   "metadata": {},
   "outputs": [],
   "source": [
    "word_to_index = {word: index for index, word in enumerate(vocabulary)}\n",
    "index_to_word = {index: word for word, index in word_to_index.items()}"
   ]
  },
  {
   "cell_type": "markdown",
   "metadata": {},
   "source": [
    "## Создание пар `(слово, контекст)`"
   ]
  },
  {
   "cell_type": "markdown",
   "metadata": {},
   "source": [
    "Для построения пар `(слово, контекст)` нам необходимо пройтись скользящим окном по всем описаниям в нашем корпусе."
   ]
  },
  {
   "cell_type": "markdown",
   "metadata": {},
   "source": [
    "Ниже задана ширина окна контекста Skipgram модели."
   ]
  },
  {
   "cell_type": "code",
   "execution_count": 27,
   "metadata": {},
   "outputs": [],
   "source": [
    "window_radius = 9"
   ]
  },
  {
   "cell_type": "markdown",
   "metadata": {},
   "source": [
    "Пары `(слово, контекст)` на основе доступного датасета сгенерированы ниже."
   ]
  },
  {
   "cell_type": "code",
   "execution_count": 28,
   "metadata": {},
   "outputs": [
    {
     "name": "stdout",
     "output_type": "stream",
     "text": [
      "Количество пар (слово, контекст): 1896402\n"
     ]
    }
   ],
   "source": [
    "context_pairs = get_context_pairs(data_tokenized, word_to_index, window_radius)\n",
    "\n",
    "print(f\"Количество пар (слово, контекст): {len(context_pairs)}\")"
   ]
  },
  {
   "cell_type": "markdown",
   "metadata": {},
   "source": [
    "## Подзадача №1: subsampling\n",
    "Для того, чтобы сгладить разницу в частоте встречаемсости слов, необходимо реализовать механизм subsampling'а.\n",
    "Для этого вам необходимо реализовать функцию ниже.\n",
    "\n",
    "Вероятность **исключить** слово из обучения (на фиксированном шаге) вычисляется как\n",
    "$$\n",
    "P_\\text{drop}(w_i)=1 - \\sqrt{\\frac{t}{f(w_i)}},\n",
    "$$\n",
    "где $f(w_i)$ – нормированная частота встречаемости слова, а $t$ – заданный порог (threshold)."
   ]
  },
  {
   "cell_type": "code",
   "execution_count": 29,
   "metadata": {},
   "outputs": [],
   "source": [
    "def subsample_frequent_words(word_count_dict, threshold=1e-5):\n",
    "    \"\"\"\n",
    "    Calculates the subsampling probabilities for words based on their frequencies.\n",
    "\n",
    "    This function is used to determine the probability of keeping a word in the dataset\n",
    "    when subsampling frequent words. The method used is inspired by the subsampling approach\n",
    "    in Word2Vec, where each word's frequency affects its probability of being kept.\n",
    "\n",
    "    Parameters:\n",
    "    - word_count_dict (dict): A dictionary where keys are words and values are the counts of those words.\n",
    "    - threshold (float, optional): A threshold parameter used to adjust the frequency of word subsampling.\n",
    "                                   Defaults to 1e-5.\n",
    "\n",
    "    Returns:\n",
    "    - dict: A dictionary where keys are words and values are the probabilities of keeping each word.\n",
    "\n",
    "    \"\"\"\n",
    "\n",
    "    words_count = sum(word_count_dict.values())\n",
    "\n",
    "    keep_prob_dict = {}  \n",
    "\n",
    "    for word, count in word_count_dict.items():\n",
    "\n",
    "        freq_norm = count / words_count\n",
    "        include_prob = (threshold / freq_norm) ** 0.5 if freq_norm > threshold else 0\n",
    "        keep_prob_dict[word] = include_prob\n",
    "        \n",
    "    return keep_prob_dict"
   ]
  },
  {
   "cell_type": "markdown",
   "metadata": {},
   "source": [
    "## Подзадача №2: negative sampling\n",
    "Для более эффективного обучения необходимо не только предсказывать высокие вероятности для слов из контекста, но и предсказывать низкие для слов, не встреченных в контексте. Для этого вам необходимо вычислить вероятность использовать слово в качестве negative sample, реализовав функцию ниже.\n",
    "\n",
    "`ВНИМАНИЕ: этот код вам нужно написать самостоятельно`\n",
    "\n",
    "В оригинальной статье предлагается оценивать вероятность слов выступать в качестве negative sample согласно распределению $P_n(w)$\n",
    "$$\n",
    "P_n(w) = \\frac{U(w)^{3/4}}{Z},\n",
    "$$\n",
    "\n",
    "где $U(w)$ распределение слов по частоте (или, как его еще называют, по униграммам), а $Z$ – нормировочная константа, чтобы общая мера была равна $1$.\n",
    "\n",
    "`ПОДСКАЗКА`: распределение слов по частоте есть ничто иное как частота встречаемости слова в корпусе"
   ]
  },
  {
   "cell_type": "code",
   "execution_count": 30,
   "metadata": {},
   "outputs": [],
   "source": [
    "def get_negative_sampling_prob(word_count_dict):\n",
    "    \"\"\"\n",
    "    Calculates the negative sampling probabilities for words based on their frequencies.\n",
    "\n",
    "    This function adjusts the frequency of each word raised to the power of 0.75, which is\n",
    "    commonly used in algorithms like Word2Vec to moderate the influence of very frequent words.\n",
    "    It then normalizes these adjusted frequencies to ensure they sum to 1, forming a probability\n",
    "    distribution used for negative sampling.\n",
    "\n",
    "    Parameters:\n",
    "    - word_count_dict (dict): A dictionary where keys are words and values are the counts of those words.\n",
    "\n",
    "    Returns:\n",
    "    - dict: A dictionary where keys are words and values are the probabilities of selecting each word\n",
    "            for negative sampling.\n",
    "\n",
    "    \"\"\"\n",
    "    \n",
    "    words_count = sum(word_count_dict.values())\n",
    "    negative_sampling_prob_dict = {}  \n",
    "    \n",
    "    Z = 0\n",
    "    negative_probs = []   \n",
    "    for word, count in word_count_dict.items():\n",
    "\n",
    "        U = count / words_count\n",
    "        negative_prob = U ** (3 / 4)\n",
    "        Z += negative_prob\n",
    "        negative_probs.append(negative_prob)\n",
    "    for word, count in word_count_dict.items(): negative_sampling_prob_dict[word] = (count / words_count) ** (3/4) / Z\n",
    "    \n",
    "\n",
    "\n",
    "\n",
    "    return negative_sampling_prob_dict"
   ]
  },
  {
   "cell_type": "markdown",
   "metadata": {},
   "source": [
    "Применим функции `subsample_frequent_words` для расчета вероятностей слов быть отобранными в обучающую выборку и `get_negative_sampling_prob` для расчета вероятностей слов быть отобранными в выборку negative_sampling.<p>\n",
    "Для удобства, преобразуем полученные словари в массивы (т.к. все слова все равно уже пронумерованы)."
   ]
  },
  {
   "cell_type": "code",
   "execution_count": 31,
   "metadata": {},
   "outputs": [],
   "source": [
    "keep_prob_dict = subsample_frequent_words(word_count_dict)\n",
    "assert keep_prob_dict.keys() == word_count_dict.keys()\n",
    "\n",
    "keep_prob_array = keep_prob_to_array(keep_prob_dict, index_to_word, word_to_index)"
   ]
  },
  {
   "cell_type": "code",
   "execution_count": 32,
   "metadata": {},
   "outputs": [],
   "source": [
    "negative_sampling_prob_dict = get_negative_sampling_prob(word_count_dict)\n",
    "assert np.allclose(sum(negative_sampling_prob_dict.values()), 1)\n",
    "\n",
    "negative_sampling_prob_array = negative_sampling_prob_to_array(negative_sampling_prob_dict, index_to_word, word_to_index)"
   ]
  },
  {
   "cell_type": "markdown",
   "metadata": {},
   "source": [
    "### Реализация модели Skipgram"
   ]
  },
  {
   "cell_type": "markdown",
   "metadata": {},
   "source": [
    "Наконец, время реализовать модель!\n",
    "\n",
    "Напомним, что в случае negative sampling решается задача максимизации следующего функционала:\n",
    "\n",
    "$$\n",
    "\\mathcal{L} = \\log \\sigma({\\mathbf{v}'_{w_O}}^\\top \\mathbf{v}_{w_I}) + \\sum_{i=1}^{k} \\mathbb{E}_{w_i \\sim P_n(w)} \\left[ \\log \\sigma({-\\mathbf{v}'_{w_i}}^\\top \\mathbf{v}_{w_I}) \\right],\n",
    "$$\n",
    "\n",
    "где:\n",
    "- $\\mathbf{v}_{w_I}$ – вектор центрального слова $w_I$,\n",
    "- $\\mathbf{v}'_{w_O}$ – вектор слова из контекста $w_O$,\n",
    "- $k$ – число negative samples,\n",
    "- $P_n(w)$ – распределение negative samples, заданное выше,\n",
    "- $\\sigma$ – сигмоида."
   ]
  },
  {
   "cell_type": "code",
   "execution_count": 33,
   "metadata": {},
   "outputs": [],
   "source": [
    "class SkipGramModelWithNegSampling(nn.Module):\n",
    "    def __init__(self, vocab_size, embedding_dim):\n",
    "        super().__init__()\n",
    "        self.center_embeddings = nn.Embedding(vocab_size, embedding_dim)\n",
    "        self.context_embeddings = nn.Embedding(vocab_size, embedding_dim)\n",
    "\n",
    "    def forward(self, center_words, pos_context_words, neg_context_words):\n",
    "\n",
    "        center_embeddings = self.center_embeddings(center_words)\n",
    "        pos_context_embeddings = self.context_embeddings(pos_context_words)\n",
    "        neg_context_embeddings = self.context_embeddings(neg_context_words)\n",
    "\n",
    "        pos_scores = torch.sum(center_embeddings * pos_context_embeddings, dim=1)\n",
    "        neg_scores = torch.sum((center_embeddings.unsqueeze(1) * neg_context_embeddings), dim = 2)\n",
    "\n",
    "        return pos_scores, neg_scores"
   ]
  },
  {
   "cell_type": "markdown",
   "metadata": {},
   "source": [
    "## Обучаем модель"
   ]
  },
  {
   "cell_type": "markdown",
   "metadata": {},
   "source": [
    "Инициализируем модель. Не забываем инициализировать её перед каждым обучением!"
   ]
  },
  {
   "cell_type": "code",
   "execution_count": 34,
   "metadata": {},
   "outputs": [],
   "source": [
    "device = torch.device(\"cpu\")\n",
    "\n",
    "vocab_size = len(word_to_index)\n",
    "embedding_dim = 32\n",
    "num_negatives = 15\n",
    "\n",
    "model = SkipGramModelWithNegSampling(vocab_size, embedding_dim).to(device)\n",
    "optimizer = optim.Adam(model.parameters(), lr=0.05)\n",
    "lr_scheduler = ReduceLROnPlateau(optimizer, factor=0.5, patience=150)\n",
    "criterion = nn.BCEWithLogitsLoss()\n",
    "\n",
    "params_counter = 0\n",
    "for weights in model.parameters():\n",
    "    params_counter += weights.shape.numel()\n",
    "assert params_counter == len(word_to_index) * embedding_dim * 2"
   ]
  },
  {
   "cell_type": "markdown",
   "metadata": {},
   "source": [
    "Запускаем обучение:"
   ]
  },
  {
   "cell_type": "code",
   "execution_count": 21,
   "metadata": {},
   "outputs": [
    {
     "data": {
      "image/png": "[encoded data removed]",
      "text/plain": [
       "<Figure size 640x480 with 1 Axes>"
      ]
     },
     "metadata": {},
     "output_type": "display_data"
    }
   ],
   "source": [
    "steps = 2500\n",
    "batch_size = 1024\n",
    "\n",
    "train_skipgram_with_neg_sampling(\n",
    "    model,\n",
    "    context_pairs,\n",
    "    keep_prob_array,\n",
    "    word_to_index,\n",
    "    batch_size,\n",
    "    num_negatives,\n",
    "    negative_sampling_prob_array,\n",
    "    steps,\n",
    "    optimizer=optimizer,\n",
    "    lr_scheduler=lr_scheduler,\n",
    "    device=device,\n",
    ")"
   ]
  },
  {
   "cell_type": "code",
   "execution_count": 36,
   "metadata": {},
   "outputs": [
    {
     "data": {
      "image/png": "[encoded data removed]",
      "text/plain": [
       "<Figure size 640x480 with 1 Axes>"
      ]
     },
     "metadata": {},
     "output_type": "display_data"
    }
   ],
   "source": [
    "steps = 2500\n",
    "batch_size = 1024\n",
    "\n",
    "train_skipgram_with_neg_sampling(\n",
    "    model,\n",
    "    context_pairs,\n",
    "    keep_prob_array,\n",
    "    word_to_index,\n",
    "    batch_size,\n",
    "    num_negatives,\n",
    "    negative_sampling_prob_array,\n",
    "    steps,\n",
    "    optimizer=optimizer,\n",
    "    lr_scheduler=lr_scheduler,\n",
    "    device=device,\n",
    ")"
   ]
  },
  {
   "cell_type": "code",
   "execution_count": 68,
   "metadata": {},
   "outputs": [
    {
     "data": {
      "image/png": "[encoded data removed]",
      "text/plain": [
       "<Figure size 640x480 with 1 Axes>"
      ]
     },
     "metadata": {},
     "output_type": "display_data"
    }
   ],
   "source": [
    "steps = 2500\n",
    "batch_size = 1024\n",
    "\n",
    "train_skipgram_with_neg_sampling(\n",
    "    model,\n",
    "    context_pairs,\n",
    "    keep_prob_array,\n",
    "    word_to_index,\n",
    "    batch_size,\n",
    "    num_negatives,\n",
    "    negative_sampling_prob_array,\n",
    "    steps,\n",
    "    optimizer=optimizer,\n",
    "    lr_scheduler=lr_scheduler,\n",
    "    device=device,\n",
    ")"
   ]
  },
  {
   "cell_type": "code",
   "execution_count": 35,
   "metadata": {},
   "outputs": [
    {
     "data": {
      "image/png": "[encoded data removed]",
      "text/plain": [
       "<Figure size 640x480 with 1 Axes>"
      ]
     },
     "metadata": {},
     "output_type": "display_data"
    }
   ],
   "source": [
    "steps = 2500\n",
    "batch_size = 1024\n",
    "\n",
    "train_skipgram_with_neg_sampling(\n",
    "    model,\n",
    "    context_pairs,\n",
    "    keep_prob_array,\n",
    "    word_to_index,\n",
    "    batch_size,\n",
    "    num_negatives,\n",
    "    negative_sampling_prob_array,\n",
    "    steps,\n",
    "    optimizer=optimizer,\n",
    "    lr_scheduler=lr_scheduler,\n",
    "    device=device,\n",
    ")"
   ]
  },
  {
   "cell_type": "markdown",
   "metadata": {},
   "source": [
    "Сохраняем состояние обученной модельки:"
   ]
  },
  {
   "cell_type": "code",
   "execution_count": 35,
   "metadata": {},
   "outputs": [],
   "source": [
    "torch.save(model.state_dict(), 'my_model_100_test.pth')"
   ]
  },
  {
   "cell_type": "code",
   "execution_count": 32,
   "metadata": {},
   "outputs": [
    {
     "data": {
      "text/plain": [
       "SkipGramModelWithNegSampling(\n",
       "  (center_embeddings): Embedding(5620, 32)\n",
       "  (context_embeddings): Embedding(5620, 32)\n",
       ")"
      ]
     },
     "execution_count": 32,
     "metadata": {},
     "output_type": "execute_result"
    }
   ],
   "source": [
    "model = SkipGramModelWithNegSampling(vocab_size, embedding_dim)\n",
    "model.load_state_dict(torch.load('my_model_100_test.pth'))\n",
    "model.eval()"
   ]
  },
  {
   "cell_type": "markdown",
   "metadata": {},
   "source": [
    "## Тестируем модель"
   ]
  },
  {
   "cell_type": "markdown",
   "metadata": {},
   "source": [
    "Оценим Accuracy модели:"
   ]
  },
  {
   "cell_type": "code",
   "execution_count": null,
   "metadata": {},
   "outputs": [
    {
     "name": "stderr",
     "output_type": "stream",
     "text": [
      "Evaluating: 100%|██████████| 25456/25456 [00:03<00:00, 6769.56it/s]\n"
     ]
    },
    {
     "name": "stdout",
     "output_type": "stream",
     "text": [
      "Accuracy: 0.8141\n"
     ]
    }
   ],
   "source": [
    "accuracy = evaluate_model(model, context_pairs, device) # Исходное"
   ]
  },
  {
   "cell_type": "code",
   "execution_count": null,
   "metadata": {},
   "outputs": [
    {
     "name": "stderr",
     "output_type": "stream",
     "text": [
      "Evaluating: 100%|██████████| 25456/25456 [00:03<00:00, 6405.14it/s]\n"
     ]
    },
    {
     "name": "stdout",
     "output_type": "stream",
     "text": [
      "Accuracy: 0.4370\n"
     ]
    }
   ],
   "source": [
    "accuracy = evaluate_model(model, context_pairs, device) # Загрузил модель из .pth"
   ]
  },
  {
   "cell_type": "code",
   "execution_count": null,
   "metadata": {},
   "outputs": [
    {
     "name": "stderr",
     "output_type": "stream",
     "text": [
      "Evaluating: 100%|██████████| 25456/25456 [00:03<00:00, 6961.04it/s]\n"
     ]
    },
    {
     "name": "stdout",
     "output_type": "stream",
     "text": [
      "Accuracy: 0.8167\n"
     ]
    }
   ],
   "source": [
    "accuracy = evaluate_model(model, context_pairs, device) # Обучил заново"
   ]
  },
  {
   "cell_type": "code",
   "execution_count": null,
   "metadata": {},
   "outputs": [
    {
     "name": "stderr",
     "output_type": "stream",
     "text": [
      "Evaluating: 100%|██████████| 25456/25456 [00:04<00:00, 5490.42it/s]\n"
     ]
    },
    {
     "name": "stdout",
     "output_type": "stream",
     "text": [
      "Accuracy: 0.8144\n"
     ]
    }
   ],
   "source": [
    "accuracy = evaluate_model(model, context_pairs, device) # Обучил, возможно, опять заново (уже не помню почему)"
   ]
  },
  {
   "cell_type": "code",
   "execution_count": null,
   "metadata": {},
   "outputs": [
    {
     "name": "stderr",
     "output_type": "stream",
     "text": [
      "Evaluating: 100%|██████████| 30284/30284 [00:02<00:00, 11344.24it/s]\n"
     ]
    },
    {
     "name": "stdout",
     "output_type": "stream",
     "text": [
      "Accuracy: 0.8105\n"
     ]
    }
   ],
   "source": [
    "accuracy = evaluate_model(model, context_pairs, device) # Поменял токены так, чтобы '(', ')' и '-' считались отдельными"
   ]
  },
  {
   "cell_type": "code",
   "execution_count": null,
   "metadata": {},
   "outputs": [
    {
     "name": "stderr",
     "output_type": "stream",
     "text": [
      "Evaluating: 100%|██████████| 29632/29632 [00:02<00:00, 12595.43it/s]\n"
     ]
    },
    {
     "name": "stdout",
     "output_type": "stream",
     "text": [
      "Accuracy: 0.8127\n"
     ]
    }
   ],
   "source": [
    "accuracy = evaluate_model(model, context_pairs, device) # Удалил скобки () и отделил '-'"
   ]
  },
  {
   "cell_type": "markdown",
   "metadata": {},
   "source": [
    "Наконец, взглянем на ближайшие по косинусной мере слова:"
   ]
  },
  {
   "cell_type": "code",
   "execution_count": 23,
   "metadata": {},
   "outputs": [
    {
     "data": {
      "text/plain": [
       "[('ErCd', 0.6606431603431702),\n",
       " ('each', 0.6664037108421326),\n",
       " ('NO2', 0.6699904203414917),\n",
       " ('K-N', 0.6708511114120483),\n",
       " ('Ne', 0.6723001003265381),\n",
       " ('thirty-two', 0.6741820573806763),\n",
       " ('1.70', 0.6772388219833374),\n",
       " ('MgB2', 0.6779054403305054),\n",
       " ('Cl2', 0.6856948137283325),\n",
       " ('Cl-Cl', 0.6891703009605408),\n",
       " ('PtAl', 0.689933180809021),\n",
       " ('SBr', 0.6981358528137207),\n",
       " ('YAu', 0.7041060924530029),\n",
       " ('S6+', 0.7096752524375916),\n",
       " ('IrY', 0.7195654511451721),\n",
       " ('2.90-3.15', 0.7585922479629517),\n",
       " ('XeF2', 0.78639155626297),\n",
       " ('BH', 0.8065178394317627),\n",
       " ('CO2', 0.831089973449707),\n",
       " ('He', 0.9999998807907104)]"
      ]
     },
     "execution_count": 23,
     "metadata": {},
     "output_type": "execute_result"
    }
   ],
   "source": [
    "central_word = \"He\"\n",
    "n_neighbours = 20\n",
    "\n",
    "find_nearest(model, central_word, word_to_index, index_to_word, n_neighbours)"
   ]
  },
  {
   "cell_type": "code",
   "execution_count": 34,
   "metadata": {},
   "outputs": [
    {
     "data": {
      "text/plain": [
       "[('SGd6', 0.7552917003631592),\n",
       " ('ErIn', 0.75568687915802),\n",
       " ('SrO2', 0.7574781179428101),\n",
       " ('OCs6O', 0.7596402764320374),\n",
       " ('ThCu12', 0.7598064541816711),\n",
       " ('edge', 0.7624145746231079),\n",
       " ('CoP6', 0.767845630645752),\n",
       " ('PrHg', 0.7685384154319763),\n",
       " ('Ag2Er', 0.7686840295791626),\n",
       " ('PrGa12', 0.7690149545669556),\n",
       " ('Pt4+', 0.7801203727722168),\n",
       " ('EuO', 0.7863434553146362),\n",
       " ('TaSi2', 0.7865057587623596),\n",
       " ('2.29-2.41', 0.7913919687271118),\n",
       " ('HoB2', 0.791733980178833),\n",
       " ('Ge4-', 0.7993354201316833),\n",
       " ('KAgF4', 0.8045241832733154),\n",
       " ('(2.00', 0.8092948198318481),\n",
       " ('MgGe4', 0.8348937034606934),\n",
       " ('He', 1.0)]"
      ]
     },
     "execution_count": 34,
     "metadata": {},
     "output_type": "execute_result"
    }
   ],
   "source": [
    "central_word = \"He\"\n",
    "n_neighbours = 20\n",
    "\n",
    "find_nearest(model, central_word, word_to_index, index_to_word, n_neighbours)"
   ]
  },
  {
   "cell_type": "code",
   "execution_count": 38,
   "metadata": {},
   "outputs": [
    {
     "data": {
      "text/plain": [
       "[('ErFe2', 0.6591145992279053),\n",
       " ('PtCd', 0.6601037979125977),\n",
       " ('HI1', 0.6606582999229431),\n",
       " ('Aea2', 0.6637009382247925),\n",
       " ('HgBaO2', 0.6640292406082153),\n",
       " ('H2S', 0.6701328158378601),\n",
       " ('GeF4', 0.6735538244247437),\n",
       " ('MgH2', 0.677666187286377),\n",
       " ('PtGa', 0.6777467727661133),\n",
       " ('NbP', 0.6781652569770813),\n",
       " ('AuBe', 0.6784332990646362),\n",
       " ('TiCu2In', 0.6801523566246033),\n",
       " ('Ar', 0.6804378628730774),\n",
       " ('Pbcm', 0.683896541595459),\n",
       " ('ClSr4', 0.7059090733528137),\n",
       " ('Si3+', 0.7210792303085327),\n",
       " ('SiF4', 0.7281886339187622),\n",
       " ('O2', 0.7674228549003601),\n",
       " ('RbNH2', 0.7854453921318054),\n",
       " ('He', 1.0)]"
      ]
     },
     "execution_count": 38,
     "metadata": {},
     "output_type": "execute_result"
    }
   ],
   "source": [
    "central_word = \"He\"\n",
    "n_neighbours = 20\n",
    "\n",
    "find_nearest(model, central_word, word_to_index, index_to_word, n_neighbours)"
   ]
  },
  {
   "cell_type": "code",
   "execution_count": 70,
   "metadata": {},
   "outputs": [
    {
     "data": {
      "text/plain": [
       "[('P-I', 0.6430860757827759),\n",
       " ('Silicon', 0.6455110311508179),\n",
       " ('NdB6', 0.6477766633033752),\n",
       " ('Na2S', 0.6520871520042419),\n",
       " ('NbTl3S4', 0.6534546613693237),\n",
       " ('YGa2', 0.6545595526695251),\n",
       " ('EuB6', 0.6560125350952148),\n",
       " ('Rb2MnS2', 0.6583570241928101),\n",
       " ('HCl', 0.6587697863578796),\n",
       " ('SmB6', 0.6601851582527161),\n",
       " ('Rb1+', 0.6613472700119019),\n",
       " ('CeBi', 0.6630098819732666),\n",
       " ('Ne', 0.6636679172515869),\n",
       " ('Na2O', 0.6638421416282654),\n",
       " ('Si-I', 0.6757885813713074),\n",
       " ('TmSe', 0.6935335397720337),\n",
       " ('CdF2', 0.7019569873809814),\n",
       " ('Ar', 0.7743746638298035),\n",
       " ('RbNH2', 0.8221544623374939),\n",
       " ('He', 0.9999998807907104)]"
      ]
     },
     "execution_count": 70,
     "metadata": {},
     "output_type": "execute_result"
    }
   ],
   "source": [
    "central_word = \"He\"\n",
    "n_neighbours = 20\n",
    "\n",
    "find_nearest(model, central_word, word_to_index, index_to_word, n_neighbours)"
   ]
  },
  {
   "cell_type": "code",
   "execution_count": 76,
   "metadata": {},
   "outputs": [
    {
     "data": {
      "text/plain": [
       "[('Ce2C3', 0.5030184388160706),\n",
       " ('Tb-Rh', 0.5042992830276489),\n",
       " ('Rh-Zn', 0.5064070224761963),\n",
       " ('NdS', 0.5067128539085388),\n",
       " ('Ti-Co', 0.5097435712814331),\n",
       " ('Mn-Pd', 0.5168185234069824),\n",
       " ('V-Mn', 0.5192649364471436),\n",
       " ('Pd-Cu', 0.5200820565223694),\n",
       " ('Ho-Cd', 0.534416913986206),\n",
       " ('P4/mmm', 0.5352658629417419),\n",
       " ('Fm̅3m', 0.5367055535316467),\n",
       " ('Ag-Zn', 0.5384889245033264),\n",
       " ('Im̅3m', 0.5477166175842285),\n",
       " ('Pr-Cd', 0.5528265833854675),\n",
       " ('Dy-Tl', 0.5571148991584778),\n",
       " ('Pm̅3m', 0.5631651282310486),\n",
       " ('Mg-Er', 0.6017712950706482),\n",
       " ('eight', 0.6566014885902405),\n",
       " ('body-centered', 0.8832125663757324),\n",
       " ('cubic', 1.0)]"
      ]
     },
     "execution_count": 76,
     "metadata": {},
     "output_type": "execute_result"
    }
   ],
   "source": [
    "central_word = \"cubic\"\n",
    "n_neighbours = 20\n",
    "\n",
    "find_nearest(model, central_word, word_to_index, index_to_word, n_neighbours)"
   ]
  },
  {
   "cell_type": "code",
   "execution_count": 92,
   "metadata": {},
   "outputs": [
    {
     "data": {
      "text/plain": [
       "[('LaBr3', 0.6533041000366211),\n",
       " ('Dy(OH)3', 0.6533488035202026),\n",
       " ('Nb5+', 0.6537853479385376),\n",
       " ('LuS', 0.6558110117912292),\n",
       " ('RhSn', 0.6595929265022278),\n",
       " ('Ru2FeSi', 0.6645504236221313),\n",
       " ('clusters', 0.6651097536087036),\n",
       " ('V5+', 0.66860032081604),\n",
       " ('HoBi', 0.6731058359146118),\n",
       " ('R̅3', 0.6732407212257385),\n",
       " ('Fdd2', 0.6779686808586121),\n",
       " ('Re6+', 0.6806595921516418),\n",
       " ('BCl3', 0.6843104362487793),\n",
       " ('Ce2C3', 0.6858977675437927),\n",
       " ('Pn̅3m', 0.6888468861579895),\n",
       " ('NdAg', 0.6897608041763306),\n",
       " ('Ac3+', 0.7028146386146545),\n",
       " ('Ne', 0.7348397970199585),\n",
       " ('Ar', 0.8026007413864136),\n",
       " ('He', 1.0000001192092896)]"
      ]
     },
     "execution_count": 92,
     "metadata": {},
     "output_type": "execute_result"
    }
   ],
   "source": [
    "central_word = \"He\"\n",
    "n_neighbours = 20\n",
    "\n",
    "find_nearest(model, central_word, word_to_index, index_to_word, n_neighbours)"
   ]
  },
  {
   "cell_type": "code",
   "execution_count": 93,
   "metadata": {},
   "outputs": [
    {
     "data": {
      "text/plain": [
       "[('ErRh', 0.5147897005081177),\n",
       " ('framework', 0.5171968936920166),\n",
       " ('DyCd', 0.5195527076721191),\n",
       " ('Ti3Sb', 0.5215742588043213),\n",
       " ('Im̅3m', 0.5253490805625916),\n",
       " ('Im̅3', 0.5258961915969849),\n",
       " ('I4/mmm', 0.5260456800460815),\n",
       " ('cuboctahedral', 0.5284062623977661),\n",
       " ('Pa̅3', 0.535121738910675),\n",
       " ('LaHg', 0.5366688966751099),\n",
       " ('group', 0.5470602512359619),\n",
       " ('P4/mmm', 0.5644019842147827),\n",
       " ('space', 0.5668914318084717),\n",
       " ('I̅43d', 0.5695121884346008),\n",
       " ('the', 0.5919933319091797),\n",
       " ('Fd̅3m', 0.6345261335372925),\n",
       " ('Fm̅3m', 0.6772681474685669),\n",
       " ('centered', 0.7403234243392944),\n",
       " ('Pm̅3m', 0.7649925947189331),\n",
       " ('cubic', 1.0)]"
      ]
     },
     "execution_count": 93,
     "metadata": {},
     "output_type": "execute_result"
    }
   ],
   "source": [
    "central_word = \"cubic\"\n",
    "n_neighbours = 20\n",
    "\n",
    "find_nearest(model, central_word, word_to_index, index_to_word, n_neighbours)"
   ]
  },
  {
   "cell_type": "markdown",
   "metadata": {},
   "source": [
    "## Визуализация результатов"
   ]
  },
  {
   "cell_type": "markdown",
   "metadata": {},
   "source": [
    "Для начала нам необходимо из всего списка слов отобрать те, которые мы хотим визуализировать. \n",
    "<p>Мы хотим визуализировать формулы кристаллов, отберем их: "
   ]
  },
  {
   "cell_type": "code",
   "execution_count": 37,
   "metadata": {},
   "outputs": [],
   "source": [
    "list_of_formules = [description[0] for description in data_tokenized]"
   ]
  },
  {
   "cell_type": "markdown",
   "metadata": {},
   "source": [
    "Получаем эмбеддинги для отобранных слов:"
   ]
  },
  {
   "cell_type": "code",
   "execution_count": 38,
   "metadata": {},
   "outputs": [],
   "source": [
    "word_embeddings = get_word_embeddings(model, word_to_index, list_of_formules)"
   ]
  },
  {
   "cell_type": "markdown",
   "metadata": {},
   "source": [
    "Наши эмбеддинги имеют размерность 32, а мы хотим визуализировать их на интерактивном 3D-графике. Для этого необходимо понизить размерность эмбеддингов с помощью редьюсеров. Мы будем использовать `umap`."
   ]
  },
  {
   "cell_type": "code",
   "execution_count": 44,
   "metadata": {},
   "outputs": [
    {
     "data": {
      "text/plain": [
       "(1798, 32)"
      ]
     },
     "execution_count": 44,
     "metadata": {},
     "output_type": "execute_result"
    }
   ],
   "source": [
    "word_embeddings.shape"
   ]
  },
  {
   "cell_type": "code",
   "execution_count": 39,
   "metadata": {},
   "outputs": [],
   "source": [
    "umap_model = umap.UMAP(n_components=3, n_neighbors=5)\n",
    "\n",
    "embeddings_3d = umap_model.fit_transform(word_embeddings)"
   ]
  },
  {
   "cell_type": "markdown",
   "metadata": {},
   "source": [
    "Строим интерактивные 3D-графики.\n",
    "Ниже вы можете ввести название файла, в который будет сохранен интерактивный график. Открыть его можно на локальном компьютере в браузере. Все остальные переменные лучше не трогать, но если хочется настроить график под себя, можно исправить функции в файле `skipgram_model_functions.py`"
   ]
  },
  {
   "cell_type": "code",
   "execution_count": 40,
   "metadata": {},
   "outputs": [],
   "source": [
    "output_filename = \"3D_plot_by_structure_types_70_tokens.html\"\n",
    "\n",
    "properties_filename = 'robocrys_exp_stable_70_tokens.csv'\n",
    "get_3D_plot_by_structure_types(list_of_formules, embeddings_3d, np.array(accuracy), output_filename, properties_filename)"
   ]
  },
  {
   "cell_type": "code",
   "execution_count": 41,
   "metadata": {},
   "outputs": [],
   "source": [
    "output_filename = \"3D_plot_by_crystal_system_70_tokens.html\"\n",
    "\n",
    "properties_filename = 'robocrys_exp_stable_70_tokens.csv'\n",
    "get_3D_plot_by_crystal_system(list_of_formules, embeddings_3d, np.array(accuracy), output_filename, properties_filename)"
   ]
  },
  {
   "cell_type": "markdown",
   "metadata": {},
   "source": [
    "### Над чем стоит подумать?"
   ]
  },
  {
   "cell_type": "markdown",
   "metadata": {},
   "source": [
    "<li> Как повысить accuracy?\n",
    "\n",
    "- Чтобы повысить accuracy можно пытаться различным образом менять токенизацию, напрмер, использовать не только слова, но и их составляющие: слоги, буквы. Можно пытаться варьировать параметры модели: ширина окна контекстного окна или какие-нибудь другие гиперпараметры. Можно так же попытаться увеличить learning rate, что, вероятно, мало даст, поскольку по графику loss'a хорошо видно, что модель уже не особо хорошо справляется с уменьшением функции потерь и достигла локального минимума.\n",
    "\n",
    "<li> Возможно, вы заметили в токенизации некоторые баги. Подумайте, с помощью каких инструментов от них удобнее всего избавиться.\n",
    "\n",
    "- В числе багов были проблемы с токенизацией скобок и дефисов, исправление которых не сильно помогло обучению модели.\n",
    "\n",
    "<li> Как ширина контекстного окна Skipgram модели влияет на результат? Что изменится, если его уменьшить/увеличить?\n",
    "\n",
    "- При очень маленьком окне модель скорее всего не сможет видеть какие-то обобщенные закономерности в плане контекста. Она будет обрабатывать только какой-то локальный контекст, и давать соответствующие результаты. Если будет очень большой размер окна, то это, вероятно, внесет определенный в модель, и будут собираться не столь важные слова, которые отношения никакого к центральному слову не имеют.\n",
    "\n",
    "<li> Если получилось отметить явно выраженные кластеры на 3D-графиках, подумать, какая закономерность в том, что эмбединги структур, находящихся в кластере, схожи.\n",
    "\n",
    "- Umap отображает близкие точки в исходном пространстве, пространстве эмбеддингов, в близкие точки в пространстве пониженной размерности. Схожесть слов в контекстном смысле, как я понял, можно сопоставить косинусному сходству их эмбеддингов. По этой причине если два слова похожи между собой, то им будут соответствовать близкие вектора. Таким образом word2vec, проходя по структуре обучается под эту структуру, выдает эмбеддинг, и при построении графика мы как раз видим то, как одинаковые структуры были заданы схожими эмбеддингами, которые оказались близкими на пространмстве пониженной размерности."
   ]
  }
 ],
 "metadata": {
  "kernelspec": {
   "display_name": ".venv",
   "language": "python",
   "name": "python3"
  },
  "language_info": {
   "codemirror_mode": {
    "name": "ipython",
    "version": 3
   },
   "file_extension": ".py",
   "mimetype": "text/x-python",
   "name": "python",
   "nbconvert_exporter": "python",
   "pygments_lexer": "ipython3",
   "version": "3.10.12"
  }
 },
 "nbformat": 4,
 "nbformat_minor": 2
}
